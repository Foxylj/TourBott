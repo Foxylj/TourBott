{
 "cells": [
  {
   "cell_type": "code",
   "execution_count": 1,
   "id": "0bc5d375",
   "metadata": {},
   "outputs": [],
   "source": [
    "import numpy as np\n",
    "import matplotlib.pyplot as plt\n",
    "%matplotlib inline"
   ]
  },
  {
   "cell_type": "code",
   "execution_count": 3,
   "id": "2e31d108",
   "metadata": {},
   "outputs": [
    {
     "ename": "ModuleNotFoundError",
     "evalue": "No module named 'utils'",
     "output_type": "error",
     "traceback": [
      "\u001b[0;31m---------------------------------------------------------------------------\u001b[0m",
      "\u001b[0;31mModuleNotFoundError\u001b[0m                       Traceback (most recent call last)",
      "\u001b[0;32m/var/folders/f7/8h5ffnss4qd_x80snnbn95940000gn/T/ipykernel_64814/366733390.py\u001b[0m in \u001b[0;36m<module>\u001b[0;34m\u001b[0m\n\u001b[0;32m----> 1\u001b[0;31m \u001b[0;32mfrom\u001b[0m \u001b[0mutils\u001b[0m \u001b[0;32mimport\u001b[0m \u001b[0mprogress_bar_downloader\u001b[0m\u001b[0;34m\u001b[0m\u001b[0;34m\u001b[0m\u001b[0m\n\u001b[0m\u001b[1;32m      2\u001b[0m \u001b[0;32mimport\u001b[0m \u001b[0mos\u001b[0m\u001b[0;34m\u001b[0m\u001b[0;34m\u001b[0m\u001b[0m\n\u001b[1;32m      3\u001b[0m \u001b[0;34m\u001b[0m\u001b[0m\n\u001b[1;32m      4\u001b[0m \u001b[0;31m#Hosting files on my dropbox since downloading from google code is painful\u001b[0m\u001b[0;34m\u001b[0m\u001b[0;34m\u001b[0m\u001b[0m\n\u001b[1;32m      5\u001b[0m \u001b[0;31m#Original project hosting is here: https://code.google.com/p/hmm-speech-recognition/downloads/list\u001b[0m\u001b[0;34m\u001b[0m\u001b[0;34m\u001b[0m\u001b[0m\n",
      "\u001b[0;31mModuleNotFoundError\u001b[0m: No module named 'utils'"
     ]
    }
   ],
   "source": [
    "from utils import progress_bar_downloader\n",
    "import os\n",
    "\n",
    "#Hosting files on my dropbox since downloading from google code is painful\n",
    "#Original project hosting is here: https://code.google.com/p/hmm-speech-recognition/downloads/list\n",
    "#Audio is included in the zip file\n",
    "link = 'https://dl.dropboxusercontent.com/u/15378192/audio.tar.gz'\n",
    "dlname = 'audio.tar.gz'\n",
    "\n",
    "if not os.path.exists('./%s' % dlname):\n",
    "    progress_bar_downloader(link, dlname)\n",
    "    os.system('tar xzf %s' % dlname)\n",
    "else:\n",
    "    print('%s already downloaded!' % dlname)"
   ]
  },
  {
   "cell_type": "code",
   "execution_count": null,
   "id": "81216b3d",
   "metadata": {},
   "outputs": [],
   "source": []
  },
  {
   "cell_type": "code",
   "execution_count": null,
   "id": "9a3da589",
   "metadata": {},
   "outputs": [],
   "source": []
  }
 ],
 "metadata": {
  "kernelspec": {
   "display_name": "Python 3 (ipykernel)",
   "language": "python",
   "name": "python3"
  },
  "language_info": {
   "codemirror_mode": {
    "name": "ipython",
    "version": 3
   },
   "file_extension": ".py",
   "mimetype": "text/x-python",
   "name": "python",
   "nbconvert_exporter": "python",
   "pygments_lexer": "ipython3",
   "version": "3.9.7"
  }
 },
 "nbformat": 4,
 "nbformat_minor": 5
}
